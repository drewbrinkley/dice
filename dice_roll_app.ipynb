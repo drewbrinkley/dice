{
 "cells": [
  {
   "cell_type": "markdown",
   "metadata": {},
   "source": [
    "# Creating a Dice Roll App in Python\n",
    "\n",
    "Project Date:  January 25, 2022\n",
    "Creator:       Drew Brinkley"
   ]
  },
  {
   "cell_type": "markdown",
   "metadata": {},
   "source": [
    "## Introduction\n",
    "I am currently working my way through Zed A. Shaw's book, **_Learn Python 3 the Hard Way_**, to learn how to code in Python.  So far, the material covered includes topics such as:\n",
    "* Strings\n",
    "* Variables\n",
    "* Functions\n",
    "* Using the ```input()``` function to get user's input\n",
    "* If-statements and conditionals\n",
    "* Loops, to include _for_ and _while_\n",
    "\n",
    "I encountered an article describing how to use Python to code an application with a text-based user interface that will simulate rolling a number of dice, as defined by the user.  I decided to build this app to practice the concepts I have been learning as well as getting more expereince commenting my code and creating supporting documentation.  I also created my first git repository and pushed the files to Github to begin utilizing version control.\n",
    "> The credit for this project goes to [Real Python](https://realpython.com/python-dice-roll/).  The code used for this project is not my original content, but is instead based upon the steps outlined in Real Python's tutorial."
   ]
  },
  {
   "cell_type": "markdown",
   "metadata": {},
   "source": [
    "## Project Overview\n",
    "The app created in this project will simulate rolls of 6-sided dice, and the number of dice rolled will be between 1 and 6 as specified by the user.  After each roll, the appliation will generate a visual representation of the results to display on the screen.  The application will facilitate the required user input via a minimalistic text-based user interface (**TUI**).\n",
    "\n",
    "The application, _dice.py_, will work as follows:\n",
    "\n",
    "Tasks to Run | Tools to Use | Code to Write\n",
    "------------ | ------------ | -------------\n",
    "Prompt user to select how many dice to roll.  Read user's input | ```input()``` function | Call ```input()``` with appropriate arguments\n",
    "Parse and validate the user input | strings, comparison operators, conditional statements | User-defined function, ```parse_input()```\n",
    "Run simulation | ```randon_int()``` function, which is aprt of Python's _random_ module | User-defined function, ```roll_dice()```\n",
    "Display results by generating ASCII diagram | loops, ```list.append()```, ```str.join()``` | User-defined function, ```generate_dice_faces()```\n",
    "Display results of dice roll on screen | ```print()``` function | Call ```print()``` with appropriate arugments\n"
   ]
  },
  {
   "cell_type": "markdown",
   "metadata": {},
   "source": [
    "## Step 1: Code the **TUI**\n",
    "Writing the code to collect and validate the user's input of how many dice to roll\n",
    "> If the user input is valid, Python will return it as an integer.  If the input is not validated, there will be another prompt to try again"
   ]
  },
  {
   "cell_type": "markdown",
   "metadata": {},
   "source": [
    "### Take User Input at Command Line\n",
    "The following code will use Python's ```input()``` function to prompt the user for input in the command line.  The ```prompt```argument will provide the user with a description of what type of input is needed.  This will provide the basis for the application's **TUI**.\n",
    "\n",
    "```py\n",
    "# dice.py\n",
    "\n",
    "# ~~~ App's main code block ~~~\n",
    "# 1. Get and validate the user's input\n",
    "\n",
    "# define variable 'num_dice_input' which calls input() to collect user input on the number of dice to roll, which must fall between 1 and 6, inclusively\n",
    "num_dice_input = input(\"How many dice do you want to roll? [1-6] \")\n",
    "# define variable 'num_dice' which calls function parse_input on variable 'num_dice_input' and stores the return value in 'num_dice'\n",
    "num_dice = parse_input(num_dice_input)\n",
    "```"
   ]
  },
  {
   "cell_type": "markdown",
   "metadata": {},
   "source": [
    "### Parse and Validate User Input\n",
    "This part of the code will take the user's input as a string, check to see if it is a valid integer, and return it as an ```int``` object.\n",
    "\n",
    "```py\n",
    "# dice.py\n",
    "\n",
    "# create function 'parse_input()' with the argument set to the input string\n",
    "def parse_input(input_string):\n",
    "    # define docstring for the function\n",
    "    \"\"\"Return 'input_string' as integer between 1 and 6.\n",
    "\n",
    "    Check if 'input_string' is an integer number between 1 and 6.\n",
    "    If so, return an integer with the same value. Othewise, tell\n",
    "    the user to enter a valid number and quit the program.\n",
    "    \"\"\"\n",
    "    # create if-statement which will check that input is acceptable\n",
    "    if input_string.strip() in {\"1\", \"2\", \"3\", \"4\", \"5\", \"6\"}:\n",
    "        # return the input string as an integer, if it is validated\n",
    "        return int(input_string)\n",
    "    # create else-statement to handle invalid inputs\n",
    "    else:\n",
    "        # print string telling user to enter a valid number\n",
    "        print(\"Please enter a number from 1 to 6.\")\n",
    "        # exits the app with 'SystemExit' exception and status code of 1 to show something went wrong\n",
    "        raise SystemExit(1)\n",
    "\n",
    "# ~~~ App's main code block ~~~\n",
    "# ...\n",
    "```\n",
    "\n"
   ]
  },
  {
   "cell_type": "code",
   "execution_count": null,
   "metadata": {},
   "outputs": [],
   "source": []
  }
 ],
 "metadata": {
  "interpreter": {
   "hash": "916dbcbb3f70747c44a77c7bcd40155683ae19c65e1c03b4aa3499c5328201f1"
  },
  "kernelspec": {
   "display_name": "Python 3.9.2 32-bit",
   "language": "python",
   "name": "python3"
  },
  "language_info": {
   "codemirror_mode": {
    "name": "ipython",
    "version": 3
   },
   "file_extension": ".py",
   "mimetype": "text/x-python",
   "name": "python",
   "nbconvert_exporter": "python",
   "pygments_lexer": "ipython3",
   "version": "3.9.2"
  },
  "orig_nbformat": 4
 },
 "nbformat": 4,
 "nbformat_minor": 2
}
